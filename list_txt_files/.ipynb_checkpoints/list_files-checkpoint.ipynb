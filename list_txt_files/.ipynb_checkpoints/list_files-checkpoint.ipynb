{
 "cells": [
  {
   "cell_type": "code",
   "execution_count": 2,
   "metadata": {
    "id": "R3uo4TjfSp2R"
   },
   "outputs": [],
   "source": [
    "# list directories\n",
    "import os\n",
    "from os.path import join\n",
    "\n",
    "def list_txt_files(path):\n",
    "  \"\"\"Lists all .txt files under given path.\"\"\"\n",
    "  txt_files = []\n",
    "  for f in os.listdir(path):\n",
    "      if '.txt' in f:\n",
    "          txt_files.append(join(path, f))\n",
    "      elif os.path.isdir(join(path, f)):\n",
    "          txt_files += list_txt_files(os.path.join(path, f))\n",
    "  return txt_files"
   ]
  },
  {
   "cell_type": "code",
   "execution_count": 9,
   "metadata": {
    "colab": {
     "base_uri": "https://localhost:8080/"
    },
    "id": "iYWFLH1PS5LF",
    "outputId": "00c62c1b-c20b-4e01-da01-b1e9023e46cf"
   },
   "outputs": [
    {
     "data": {
      "text/plain": [
       "['anscombe.json',\n",
       " 'README.md',\n",
       " 'california_housing_test.csv',\n",
       " 'mnist_train_small.csv',\n",
       " 'california_housing_train.csv',\n",
       " 'mnist_test.csv']"
      ]
     },
     "execution_count": 9,
     "metadata": {},
     "output_type": "execute_result"
    }
   ],
   "source": [
    "list_txt_files('.')\n",
    "os.listdir('sample_data')"
   ]
  },
  {
   "cell_type": "code",
   "execution_count": null,
   "metadata": {
    "id": "pNv5ROzjVw7o"
   },
   "outputs": [],
   "source": []
  }
 ],
 "metadata": {
  "colab": {
   "collapsed_sections": [],
   "name": "list_files.ipynb",
   "provenance": []
  },
  "kernelspec": {
   "display_name": "Python 3",
   "language": "python",
   "name": "python3"
  },
  "language_info": {
   "codemirror_mode": {
    "name": "ipython",
    "version": 3
   },
   "file_extension": ".py",
   "mimetype": "text/x-python",
   "name": "python",
   "nbconvert_exporter": "python",
   "pygments_lexer": "ipython3",
   "version": "3.8.8"
  }
 },
 "nbformat": 4,
 "nbformat_minor": 1
}
