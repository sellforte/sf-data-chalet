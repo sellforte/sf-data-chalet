{
 "cells": [
  {
   "cell_type": "markdown",
   "id": "cf2cb439",
   "metadata": {},
   "source": [
    "# Problem"
   ]
  },
  {
   "cell_type": "markdown",
   "id": "cb1aa30a",
   "metadata": {},
   "source": [
    "We have been contacted by a customer who would like to find out how TV ads drive traffic and purchases in their online store. From them, we have received the following datasets:\n",
    "- timeseries.pkl.gz: a minute-level timeseries table, containing visits, registrations and first purchases to the website (accessed in this notebook as 'ts')\n",
    "- media_investments.pkl.gz: a table containing the timestamps, costs and a connecting metadata id for the TV ads (accessed as 'minv')\n",
    "- media_dimensions.pkl.gz: a metadata table for the ads, containing assorted extra information. We will ignore this table for now.\n",
    "\n",
    "Our job is to find out:\n",
    "\n",
    "a). do the TV ads have any effect?\n",
    "\n",
    "b). what kind of effect?\n",
    "\n",
    "c). (if time allows) how we can quantify this effect?"
   ]
  },
  {
   "cell_type": "markdown",
   "id": "8c793e76",
   "metadata": {},
   "source": [
    "# Code\n",
    "\n",
    "Modules; feel free to import any you'd like"
   ]
  },
  {
   "cell_type": "code",
   "execution_count": 2,
   "id": "9f5ef9df-db90-4ca2-a249-fbb6317a48ec",
   "metadata": {
    "ExecuteTime": {
     "end_time": "2022-02-14T07:39:37.423390Z",
     "start_time": "2022-02-14T07:39:35.375097Z"
    }
   },
   "outputs": [],
   "source": [
    "import pandas as pd\n",
    "import numpy as np\n",
    "import matplotlib.pyplot as plt"
   ]
  },
  {
   "cell_type": "code",
   "execution_count": 3,
   "id": "9261a828-ec80-4149-935b-e220b3495a67",
   "metadata": {
    "ExecuteTime": {
     "end_time": "2022-02-14T07:39:37.565064Z",
     "start_time": "2022-02-14T07:39:37.441869Z"
    }
   },
   "outputs": [],
   "source": [
    "# read the dfs\n",
    "ts = pd.read_csv('files/timeseries.csv.gz')\n",
    "ts.loc[:, 'ts'] = pd.to_datetime(ts['ts'])\n",
    "minv = pd.read_csv('files/media_investments.csv.gz')\n",
    "minv.loc[:, 'ts'] = pd.to_datetime(minv['ts'])\n",
    "mdim = pd.read_csv('files/media_dimensions.csv.gz')"
   ]
  },
  {
   "cell_type": "code",
   "execution_count": 4,
   "id": "8f3b80ab-30ba-4c84-8e4c-5e07c6b8c1a1",
   "metadata": {
    "ExecuteTime": {
     "end_time": "2022-02-14T07:39:37.637579Z",
     "start_time": "2022-02-14T07:39:37.619623Z"
    }
   },
   "outputs": [
    {
     "data": {
      "text/html": [
       "<div>\n",
       "<style scoped>\n",
       "    .dataframe tbody tr th:only-of-type {\n",
       "        vertical-align: middle;\n",
       "    }\n",
       "\n",
       "    .dataframe tbody tr th {\n",
       "        vertical-align: top;\n",
       "    }\n",
       "\n",
       "    .dataframe thead th {\n",
       "        text-align: right;\n",
       "    }\n",
       "</style>\n",
       "<table border=\"1\" class=\"dataframe\">\n",
       "  <thead>\n",
       "    <tr style=\"text-align: right;\">\n",
       "      <th></th>\n",
       "      <th>ts</th>\n",
       "      <th>traffic</th>\n",
       "      <th>registrations</th>\n",
       "      <th>first_purchases</th>\n",
       "    </tr>\n",
       "  </thead>\n",
       "  <tbody>\n",
       "    <tr>\n",
       "      <th>0</th>\n",
       "      <td>2020-07-01 00:00:00</td>\n",
       "      <td>58.0</td>\n",
       "      <td>0.0</td>\n",
       "      <td>0.0</td>\n",
       "    </tr>\n",
       "    <tr>\n",
       "      <th>1</th>\n",
       "      <td>2020-07-01 00:01:00</td>\n",
       "      <td>61.0</td>\n",
       "      <td>0.0</td>\n",
       "      <td>0.0</td>\n",
       "    </tr>\n",
       "    <tr>\n",
       "      <th>2</th>\n",
       "      <td>2020-07-01 00:02:00</td>\n",
       "      <td>64.0</td>\n",
       "      <td>2.0</td>\n",
       "      <td>1.0</td>\n",
       "    </tr>\n",
       "    <tr>\n",
       "      <th>3</th>\n",
       "      <td>2020-07-01 00:03:00</td>\n",
       "      <td>60.0</td>\n",
       "      <td>1.0</td>\n",
       "      <td>0.0</td>\n",
       "    </tr>\n",
       "    <tr>\n",
       "      <th>4</th>\n",
       "      <td>2020-07-01 00:04:00</td>\n",
       "      <td>61.0</td>\n",
       "      <td>2.0</td>\n",
       "      <td>0.0</td>\n",
       "    </tr>\n",
       "    <tr>\n",
       "      <th>5</th>\n",
       "      <td>2020-07-01 00:05:00</td>\n",
       "      <td>55.0</td>\n",
       "      <td>1.0</td>\n",
       "      <td>0.0</td>\n",
       "    </tr>\n",
       "    <tr>\n",
       "      <th>6</th>\n",
       "      <td>2020-07-01 00:06:00</td>\n",
       "      <td>50.0</td>\n",
       "      <td>1.0</td>\n",
       "      <td>0.0</td>\n",
       "    </tr>\n",
       "    <tr>\n",
       "      <th>7</th>\n",
       "      <td>2020-07-01 00:07:00</td>\n",
       "      <td>56.0</td>\n",
       "      <td>1.0</td>\n",
       "      <td>0.0</td>\n",
       "    </tr>\n",
       "    <tr>\n",
       "      <th>8</th>\n",
       "      <td>2020-07-01 00:08:00</td>\n",
       "      <td>65.0</td>\n",
       "      <td>0.0</td>\n",
       "      <td>0.0</td>\n",
       "    </tr>\n",
       "    <tr>\n",
       "      <th>9</th>\n",
       "      <td>2020-07-01 00:09:00</td>\n",
       "      <td>57.0</td>\n",
       "      <td>0.0</td>\n",
       "      <td>0.0</td>\n",
       "    </tr>\n",
       "  </tbody>\n",
       "</table>\n",
       "</div>"
      ],
      "text/plain": [
       "                   ts  traffic  registrations  first_purchases\n",
       "0 2020-07-01 00:00:00     58.0            0.0              0.0\n",
       "1 2020-07-01 00:01:00     61.0            0.0              0.0\n",
       "2 2020-07-01 00:02:00     64.0            2.0              1.0\n",
       "3 2020-07-01 00:03:00     60.0            1.0              0.0\n",
       "4 2020-07-01 00:04:00     61.0            2.0              0.0\n",
       "5 2020-07-01 00:05:00     55.0            1.0              0.0\n",
       "6 2020-07-01 00:06:00     50.0            1.0              0.0\n",
       "7 2020-07-01 00:07:00     56.0            1.0              0.0\n",
       "8 2020-07-01 00:08:00     65.0            0.0              0.0\n",
       "9 2020-07-01 00:09:00     57.0            0.0              0.0"
      ]
     },
     "execution_count": 4,
     "metadata": {},
     "output_type": "execute_result"
    }
   ],
   "source": [
    "ts.head(10)"
   ]
  },
  {
   "cell_type": "code",
   "execution_count": 5,
   "id": "f476d067-d53e-4033-a912-0a674e2aad73",
   "metadata": {
    "ExecuteTime": {
     "end_time": "2022-02-14T07:39:37.704628Z",
     "start_time": "2022-02-14T07:39:37.692630Z"
    }
   },
   "outputs": [
    {
     "data": {
      "text/html": [
       "<div>\n",
       "<style scoped>\n",
       "    .dataframe tbody tr th:only-of-type {\n",
       "        vertical-align: middle;\n",
       "    }\n",
       "\n",
       "    .dataframe tbody tr th {\n",
       "        vertical-align: top;\n",
       "    }\n",
       "\n",
       "    .dataframe thead th {\n",
       "        text-align: right;\n",
       "    }\n",
       "</style>\n",
       "<table border=\"1\" class=\"dataframe\">\n",
       "  <thead>\n",
       "    <tr style=\"text-align: right;\">\n",
       "      <th></th>\n",
       "      <th>ts</th>\n",
       "      <th>media_investment</th>\n",
       "      <th>media_index</th>\n",
       "    </tr>\n",
       "  </thead>\n",
       "  <tbody>\n",
       "    <tr>\n",
       "      <th>0</th>\n",
       "      <td>2020-07-01 01:14:00</td>\n",
       "      <td>424.732863</td>\n",
       "      <td>1133</td>\n",
       "    </tr>\n",
       "    <tr>\n",
       "      <th>1</th>\n",
       "      <td>2020-07-01 04:39:00</td>\n",
       "      <td>324.863646</td>\n",
       "      <td>5020</td>\n",
       "    </tr>\n",
       "    <tr>\n",
       "      <th>2</th>\n",
       "      <td>2020-07-01 05:07:00</td>\n",
       "      <td>165.070659</td>\n",
       "      <td>3397</td>\n",
       "    </tr>\n",
       "    <tr>\n",
       "      <th>3</th>\n",
       "      <td>2020-07-01 06:51:00</td>\n",
       "      <td>264.791902</td>\n",
       "      <td>2744</td>\n",
       "    </tr>\n",
       "    <tr>\n",
       "      <th>4</th>\n",
       "      <td>2020-07-01 07:21:00</td>\n",
       "      <td>327.557838</td>\n",
       "      <td>4787</td>\n",
       "    </tr>\n",
       "    <tr>\n",
       "      <th>5</th>\n",
       "      <td>2020-07-01 11:47:00</td>\n",
       "      <td>706.992475</td>\n",
       "      <td>5525</td>\n",
       "    </tr>\n",
       "    <tr>\n",
       "      <th>6</th>\n",
       "      <td>2020-07-01 11:57:00</td>\n",
       "      <td>315.117000</td>\n",
       "      <td>479</td>\n",
       "    </tr>\n",
       "    <tr>\n",
       "      <th>7</th>\n",
       "      <td>2020-07-01 13:12:00</td>\n",
       "      <td>792.241255</td>\n",
       "      <td>3246</td>\n",
       "    </tr>\n",
       "    <tr>\n",
       "      <th>8</th>\n",
       "      <td>2020-07-01 13:15:00</td>\n",
       "      <td>530.935781</td>\n",
       "      <td>3042</td>\n",
       "    </tr>\n",
       "    <tr>\n",
       "      <th>9</th>\n",
       "      <td>2020-07-01 15:18:00</td>\n",
       "      <td>793.499552</td>\n",
       "      <td>3248</td>\n",
       "    </tr>\n",
       "  </tbody>\n",
       "</table>\n",
       "</div>"
      ],
      "text/plain": [
       "                   ts  media_investment  media_index\n",
       "0 2020-07-01 01:14:00        424.732863         1133\n",
       "1 2020-07-01 04:39:00        324.863646         5020\n",
       "2 2020-07-01 05:07:00        165.070659         3397\n",
       "3 2020-07-01 06:51:00        264.791902         2744\n",
       "4 2020-07-01 07:21:00        327.557838         4787\n",
       "5 2020-07-01 11:47:00        706.992475         5525\n",
       "6 2020-07-01 11:57:00        315.117000          479\n",
       "7 2020-07-01 13:12:00        792.241255         3246\n",
       "8 2020-07-01 13:15:00        530.935781         3042\n",
       "9 2020-07-01 15:18:00        793.499552         3248"
      ]
     },
     "execution_count": 5,
     "metadata": {},
     "output_type": "execute_result"
    }
   ],
   "source": [
    "minv.head(10)"
   ]
  },
  {
   "cell_type": "code",
   "execution_count": 8,
   "id": "76da14d3",
   "metadata": {
    "ExecuteTime": {
     "end_time": "2022-02-14T07:40:02.072235Z",
     "start_time": "2022-02-14T07:40:01.817225Z"
    }
   },
   "outputs": [
    {
     "data": {
      "text/plain": [
       "<matplotlib.legend.Legend at 0x121884130>"
      ]
     },
     "execution_count": 8,
     "metadata": {},
     "output_type": "execute_result"
    },
    {
     "data": {
      "image/png": "[encoded data removed]",
      "text/plain": [
       "<Figure size 720x360 with 1 Axes>"
      ]
     },
     "metadata": {
      "needs_background": "light"
     },
     "output_type": "display_data"
    }
   ],
   "source": [
    "start_time = '2020-07-01 00:00:01'\n",
    "end_time = '2020-07-31 23:59:59'\n",
    "plot_ads = False\n",
    "ts_to_plot = ['traffic']\n",
    "to_plot = ts.loc[(ts['ts'] >= pd.Timestamp(start_time)) & (ts['ts'] <= pd.Timestamp(end_time))]\n",
    "minv_plot = minv.loc[(minv['ts'] >= pd.Timestamp(start_time)) & (minv['ts'] <= pd.Timestamp(end_time))]\n",
    "fig, ax = plt.subplots(figsize=(10, 5))\n",
    "for ts_plt in ts_to_plot:\n",
    "    ax.plot(to_plot['ts'], to_plot[ts_plt], label=ts_plt.title())\n",
    "ymin, ymax = ax.get_ylim()\n",
    "ax.set_ylim([0, ymax])\n",
    "if plot_ads:\n",
    "    for mi in minv_plot['ts'].values:\n",
    "        ax.axvline(mi, linestyle='--', color='k')\n",
    "plt.xticks(rotation=45)\n",
    "ax.legend()"
   ]
  },
  {
   "cell_type": "code",
   "execution_count": null,
   "id": "9cf65119-5840-46a5-bcf1-c0ee3786c5aa",
   "metadata": {},
   "outputs": [],
   "source": []
  }
 ],
 "metadata": {
  "kernelspec": {
   "display_name": "Python 3",
   "language": "python",
   "name": "python3"
  },
  "language_info": {
   "codemirror_mode": {
    "name": "ipython",
    "version": 3
   },
   "file_extension": ".py",
   "mimetype": "text/x-python",
   "name": "python",
   "nbconvert_exporter": "python",
   "pygments_lexer": "ipython3",
   "version": "3.9.10"
  },
  "toc": {
   "base_numbering": 1,
   "nav_menu": {},
   "number_sections": true,
   "sideBar": true,
   "skip_h1_title": false,
   "title_cell": "Table of Contents",
   "title_sidebar": "Contents",
   "toc_cell": false,
   "toc_position": {},
   "toc_section_display": true,
   "toc_window_display": false
  },
  "varInspector": {
   "cols": {
    "lenName": 16,
    "lenType": 16,
    "lenVar": 40
   },
   "kernels_config": {
    "python": {
     "delete_cmd_postfix": "",
     "delete_cmd_prefix": "del ",
     "library": "var_list.py",
     "varRefreshCmd": "print(var_dic_list())"
    },
    "r": {
     "delete_cmd_postfix": ") ",
     "delete_cmd_prefix": "rm(",
     "library": "var_list.r",
     "varRefreshCmd": "cat(var_dic_list()) "
    }
   },
   "types_to_exclude": [
    "module",
    "function",
    "builtin_function_or_method",
    "instance",
    "_Feature"
   ],
   "window_display": false
  }
 },
 "nbformat": 4,
 "nbformat_minor": 5
}
